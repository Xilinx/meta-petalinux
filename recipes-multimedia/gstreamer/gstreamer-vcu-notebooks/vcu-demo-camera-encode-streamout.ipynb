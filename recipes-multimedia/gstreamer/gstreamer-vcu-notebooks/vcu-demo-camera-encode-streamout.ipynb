{
 "cells": [
  {
   "cell_type": "markdown",
   "metadata": {},
   "source": [
    "# Video Codec Unit (VCU) Demo Example: CAMERA->ENCODE ->STREAMOUT "
   ]
  },
  {
   "cell_type": "markdown",
   "metadata": {},
   "source": [
    "# Introduction\n",
    "\n",
    "Video Codec Unit (VCU) in ZynqMP SOC is capable of encoding and decoding AVC/HEVC compressed video streams in real time. \n",
    "\n",
    "This notebook example shows Live streaming use case using 2 ZCU106 board connected in common network wherein board-1(acts as server) captures video and audio from USB camera, encode video using VCU and audio using software Gstreamer element, mux both audio and video data and stream over ethernet. On the side, board-2 (acts as client) receives data, demux decode video audio data and renders it on DP/HDMI monitor. \n"
   ]
  },
  {
   "cell_type": "markdown",
   "metadata": {},
   "source": [
    "# Implementation Details\n",
    "\n",
    "<img src=\"pictures/block-diagram-camera-encode-streamout.png\" align=\"center\" alt=\"Drawing\" style=\"width: 1000px; height: 200px\"/>\n",
    "\n",
    "This example requires two boards, board 1 is used for encoding live A/V feed from camera and stream-out (as a server) and board 2 is used for streaming-in and decode purpose to play received Audio/Video stream (as a client).(More details regarding Test Setup for board 2 can be found in \"vcu-demo-streamin-decode-display.ipynb\" Example).\n",
    "\n",
    "__Note:__ This notebook needs to be run along with \"vcu-demo-streamin-decode-display.ipynb\". The configuration settings below are for Sever side pipeline.\n",
    "\n",
    "### Board Setup\n",
    "**Board-1 is used for transcode and stream-out (as a server)**\n",
    " 1. Connect serial cable to monitor logs on serial console.\n",
    " 2. Connect USB camera(preferably Logitech HD camera, C920) with board.\n",
    " 3. If Board is connected to private network, then export proxy settings in /home/root/.bashrc file on board as below,\n",
    "    - create/open a bashrc file using \"vi ~/.bashrc\" \n",
    "        - Insert below line to bashrc file\n",
    "            - export http_proxy=\"< private network proxy address >\"\n",
    "            - export https_proxy=\"< private network proxy address >\"\n",
    "        - Save and close bashrc file. \n",
    " 4. Connect two boards in the same network so that they can access each other using IP address.\n",
    " 5. Check server IP.\n",
    "    - root@zcu106-zynqmp:~#ifconfig\n",
    " 6. Check client IP on client board.\n",
    " 7. Check connectivity for board-1 & board-2. \n",
    "    - root@zcu106-zynqmp:~#ping <board-2's IP>\n",
    " 8. Provide client's board IP as Client IP parameters.\n",
    " 9. Run Camera Audio/Video → Stream out on board-1\n",
    "\n",
    "\n",
    "\n",
    "### Determine Audio Device Names\n",
    "The audio device name of audio source(Input device) and playback device(output device) need to be determined using arecord and aplay utilities installed on platform.\n",
    "\n",
    "***Audio Input***\n",
    "\n",
    "**ALSA sound device names for capture devices**\n",
    "- Run below command to get ALSA sound device names for capture devices\n",
    "\n",
    "   root@zcu106-zynqmp:~#arecord -l\n",
    "   \n",
    "   It shows list of Audio Capture Hardware Devices. For e.g\n",
    "        - card 1: C920 [HD Pro Webcam C920], device 0: USB Audio [USB Audio]\n",
    "            - Subdevices: 1/1\n",
    "            - Subdevice #0: subdevice #0\n",
    "\n",
    "Here card number of capture device is 1 and device id is 0. Hence \" **hw:1,0** \" to be passed as auido input device.\n",
    "\n",
    "**Pulse sound device names for capture devices**\n",
    "-  Run below command to get PULSE sound device names for capture devices\n",
    "\n",
    "   root@zcu106-zynqmp:~#pactl list short sources\n",
    "   \n",
    "   It shows list of Audio Capture Hardware Devices. For e.g\n",
    "       - 0 alsa_input.usb-046d_HD_Pro_Webcam_C920_758B5BFF-02.analog-stereo ...\n",
    "   \n",
    "Here \"**alsa_input.usb-046d_HD_Pro_Webcam_C920_758B5BFF-02.analog-stereo**\" is the name of audio capture device. Hence it can be passed as auido input device.\n",
    "\n",
    "\n",
    "\n",
    "### USB Camera Capabilities\n",
    "Resolutions for this example need to set based on USB Camera Capabilities\n",
    "- Capabilities can be found by executing below command on board\n",
    "\n",
    "  root@zcu106-zynqmp:~#\"v4l2-ctl -d < dev-id > --list-formats-ext\".\n",
    "    \n",
    "  < dev-id >:- It can be found using dmesg logs. Mostly it would be like \"/dev/video0\"\n",
    "  \n",
    "  \n",
    "- V4lutils if not installed in the pre-built image, need to install using dnf or rebuild petalinux image including v4lutils"
   ]
  },
  {
   "cell_type": "code",
   "execution_count": 1,
   "metadata": {},
   "outputs": [
    {
     "data": {
      "text/html": [
       "<script>\n",
       "code_show=true; \n",
       "function code_toggle() {\n",
       " if (code_show){\n",
       " $('div.input').hide();\n",
       " } else {\n",
       " $('div.input').show();\n",
       " }\n",
       " code_show = !code_show\n",
       "} \n",
       "$( document ).ready(code_toggle);\n",
       "</script>\n",
       "<form action=\"javascript:code_toggle()\"><input type=\"submit\" value=\"Click here to toggle on/off the raw code.\"></form>"
      ],
      "text/plain": [
       "<IPython.core.display.HTML object>"
      ]
     },
     "execution_count": 1,
     "metadata": {},
     "output_type": "execute_result"
    }
   ],
   "source": [
    "from IPython.display import HTML\n",
    "\n",
    "HTML('''<script>\n",
    "code_show=true; \n",
    "function code_toggle() {\n",
    " if (code_show){\n",
    " $('div.input').hide();\n",
    " } else {\n",
    " $('div.input').show();\n",
    " }\n",
    " code_show = !code_show\n",
    "} \n",
    "$( document ).ready(code_toggle);\n",
    "</script>\n",
    "<form action=\"javascript:code_toggle()\"><input type=\"submit\" value=\"Click here to toggle on/off the raw code.\"></form>''')"
   ]
  },
  {
   "cell_type": "markdown",
   "metadata": {},
   "source": [
    "# Run the Demo"
   ]
  },
  {
   "cell_type": "code",
   "execution_count": 2,
   "metadata": {},
   "outputs": [],
   "source": [
    "from ipywidgets import interact\n",
    "import ipywidgets as widgets\n",
    "from common import common_vcu_demo_camera_encode_streamout\n",
    "import os\n",
    "from ipywidgets import HBox, VBox, Text, Layout"
   ]
  },
  {
   "cell_type": "markdown",
   "metadata": {},
   "source": [
    "### Video"
   ]
  },
  {
   "cell_type": "code",
   "execution_count": 3,
   "metadata": {},
   "outputs": [
    {
     "data": {
      "application/vnd.jupyter.widget-view+json": {
       "model_id": "096f758982014a9089396e1e14515f7b",
       "version_major": 2,
       "version_minor": 0
      },
      "text/plain": [
       "HBox(children=(Text(value='', description='Camera Dev Id:', placeholder='\"/dev/video1\"', style=DescriptionStyl…"
      ]
     },
     "metadata": {},
     "output_type": "display_data"
    }
   ],
   "source": [
    "video_capture_device=widgets.Text(value='',\n",
    "    placeholder='\"/dev/video1\"',\n",
    "    description='Camera Dev Id:',\n",
    "    style={'description_width': 'initial'},\n",
    "    #layout=Layout(width='35%', height='30px'), \n",
    "    disabled=False)\n",
    "address_path=widgets.Text(value='',\n",
    "    placeholder='192.168.1.101 ',\n",
    "    description='Client IP:',\n",
    "    disabled=False)\n",
    "HBox([video_capture_device, address_path])"
   ]
  },
  {
   "cell_type": "code",
   "execution_count": 4,
   "metadata": {},
   "outputs": [
    {
     "data": {
      "application/vnd.jupyter.widget-view+json": {
       "model_id": "094311abaad94d01a1cb404de558ff8b",
       "version_major": 2,
       "version_minor": 0
      },
      "text/plain": [
       "HBox(children=(RadioButtons(description='Codec Type:', options=('avc', 'hevc'), value='avc'), RadioButtons(des…"
      ]
     },
     "metadata": {},
     "output_type": "display_data"
    }
   ],
   "source": [
    "codec_type=widgets.RadioButtons(\n",
    "    options=['avc', 'hevc'],\n",
    "    description='Codec Type:',\n",
    "    disabled=False)\n",
    "video_size=widgets.RadioButtons(\n",
    "    options=['640x480', '1280x720', '1920x1080', '3840x2160'],\n",
    "    description='Resolution:',\n",
    "    description_tooltip='To select the values, please refer USB Camera Capabilities section',\n",
    "    disabled=False)\n",
    "sink_name=widgets.RadioButtons(\n",
    "    options=['none', 'fakevideosink'],\n",
    "    description='Video Sink:',\n",
    "    disabled=False)\n",
    "HBox([codec_type, video_size, sink_name])"
   ]
  },
  {
   "cell_type": "markdown",
   "metadata": {},
   "source": [
    "### Audio"
   ]
  },
  {
   "cell_type": "code",
   "execution_count": 5,
   "metadata": {},
   "outputs": [
    {
     "data": {
      "application/vnd.jupyter.widget-view+json": {
       "model_id": "53a0c5f405eb41679ce8ed5875e1f244",
       "version_major": 2,
       "version_minor": 0
      },
      "text/plain": [
       "Text(value='', description='Input Dev:', description_tooltip='To select the values, please refer Determine Aud…"
      ]
     },
     "metadata": {},
     "output_type": "display_data"
    }
   ],
   "source": [
    "device_id=Text(value='',\n",
    "    placeholder='(optional) \"hw:1\"',\n",
    "    description='Input Dev:',\n",
    "    description_tooltip='To select the values, please refer Determine Audio Device Names section',\n",
    "    disabled=False)\n",
    "device_id"
   ]
  },
  {
   "cell_type": "code",
   "execution_count": 6,
   "metadata": {},
   "outputs": [
    {
     "data": {
      "application/vnd.jupyter.widget-view+json": {
       "model_id": "26b8ff4a8c804d59b46a455fcc8b0e9c",
       "version_major": 2,
       "version_minor": 0
      },
      "text/plain": [
       "HBox(children=(interactive(children=(RadioButtons(description='Audio Codec:', options=('none', 'vorbis', 'aac'…"
      ]
     },
     "metadata": {},
     "output_type": "display_data"
    }
   ],
   "source": [
    "audio_sink={'none':['none'], 'aac':['auto','alsasink','pulsesink'],'vorbis':['auto','alsasink','pulsesink']}\n",
    "audio_src={'none':['none'], 'aac':['auto','alsasrc','pulseaudiosrc'],'vorbis':['auto','alsasrc','pulseaudiosrc']}\n",
    "\n",
    "#val=sorted(audio_sink, key = lambda k: (-len(audio_sink[k]), k))\n",
    "def print_audio_sink(AudioSink):\n",
    "    pass\n",
    "    \n",
    "def print_audio_src(AudioSrc):\n",
    "    pass\n",
    "\n",
    "def select_audio_sink(AudioCodec):\n",
    "    audio_sinkW.options = audio_sink[AudioCodec]\n",
    "    audio_srcW.options = audio_src[AudioCodec]\n",
    "\n",
    "audio_codecW = widgets.RadioButtons(options=sorted(audio_sink.keys(), key=lambda k: len(audio_sink[k])), description='Audio Codec:')\n",
    "\n",
    "init = audio_codecW.value\n",
    "\n",
    "audio_sinkW = widgets.RadioButtons(options=audio_sink[init], description='Audio Sink:')\n",
    "audio_srcW = widgets.RadioButtons(options=audio_src[init], description='Audio Src:')\n",
    "#j = widgets.interactive(print_audio_sink, AudioSink=audio_sinkW)\n",
    "k = widgets.interactive(print_audio_src, AudioSrc=audio_srcW)\n",
    "i = widgets.interactive(select_audio_sink, AudioCodec=audio_codecW)\n",
    "\n",
    "HBox([i, k])"
   ]
  },
  {
   "cell_type": "markdown",
   "metadata": {},
   "source": [
    "### Advanced options:"
   ]
  },
  {
   "cell_type": "code",
   "execution_count": 7,
   "metadata": {},
   "outputs": [
    {
     "data": {
      "application/vnd.jupyter.widget-view+json": {
       "model_id": "fd663a3368304407ad9f51d1a4ea6c18",
       "version_major": 2,
       "version_minor": 0
      },
      "text/plain": [
       "HBox(children=(Text(value='', description='Bit Rate(Kbps):', placeholder='(optional) 1000, 20000', style=Descr…"
      ]
     },
     "metadata": {},
     "output_type": "display_data"
    }
   ],
   "source": [
    "frame_rate=widgets.Text(value='',\n",
    "    placeholder='(optional) 15, 30, 60',\n",
    "    description='Frame Rate:',\n",
    "    disabled=False)\n",
    "bit_rate=widgets.Text(value='',\n",
    "    placeholder='(optional) 1000, 20000',\n",
    "    description='Bit Rate(Kbps):',\n",
    "    style={'description_width': 'initial'},\n",
    "    disabled=False)\n",
    "gop_length=widgets.Text(value='',\n",
    "    placeholder='(optional) 30, 60',\n",
    "    description='Gop Length',\n",
    "    disabled=False)\n",
    "\n",
    "display(HBox([bit_rate, frame_rate, gop_length]))"
   ]
  },
  {
   "cell_type": "code",
   "execution_count": 8,
   "metadata": {},
   "outputs": [
    {
     "data": {
      "application/vnd.jupyter.widget-view+json": {
       "model_id": "956504c9f53f488dae1c9c01f88de1cb",
       "version_major": 2,
       "version_minor": 0
      },
      "text/plain": [
       "HBox(children=(Text(value='', description='Periodicity Idr:', placeholder='(optional) 30, 40, 50', style=Descr…"
      ]
     },
     "metadata": {},
     "output_type": "display_data"
    }
   ],
   "source": [
    "no_of_frames=Text(value='',\n",
    "    placeholder='(optional) 1000, 2000',\n",
    "    description=r'<p>Frame Nos:</p>',\n",
    "    #layout=Layout(width='25%', height='30px'),\n",
    "    disabled=False)\n",
    "output_path=widgets.Text(value='',\n",
    "    placeholder='(optional)',\n",
    "    description='Output Path:',\n",
    "    disabled=False)\n",
    "periodicity_idr=widgets.Text(value='',\n",
    "    placeholder='(optional) 30, 40, 50',\n",
    "    description='Periodicity Idr:',\n",
    "    style={'description_width': 'initial'},\n",
    "    #layout=Layout(width='35%', height='30px'),\n",
    "    disabled=False)\n",
    "#entropy_buffers\n",
    "#output_path\n",
    "#gop_length\n",
    "HBox([periodicity_idr, no_of_frames, output_path])"
   ]
  },
  {
   "cell_type": "code",
   "execution_count": 9,
   "metadata": {},
   "outputs": [
    {
     "data": {
      "application/vnd.jupyter.widget-view+json": {
       "model_id": "e1aee94a52fc4f37a2447aa6b20e8020",
       "version_major": 2,
       "version_minor": 0
      },
      "text/plain": [
       "HBox(children=(Checkbox(value=False, description='compressed-mode'), Checkbox(value=False, description='show-f…"
      ]
     },
     "metadata": {},
     "output_type": "display_data"
    }
   ],
   "source": [
    "#entropy_buffers\n",
    "show_fps=widgets.Checkbox(\n",
    "    value=False,\n",
    "    description='show-fps',\n",
    "    #style={'description_width': 'initial'},\n",
    "    disabled=False)\n",
    "compressed_mode=widgets.Checkbox(\n",
    "    value=False,\n",
    "    description='compressed-mode',\n",
    "    disabled=False)\n",
    "HBox([compressed_mode, show_fps])"
   ]
  },
  {
   "cell_type": "code",
   "execution_count": 10,
   "metadata": {},
   "outputs": [],
   "source": [
    "from IPython.display import clear_output\n",
    "from IPython.display import Javascript\n",
    "\n",
    "def run_all(ev):\n",
    "    display(Javascript('IPython.notebook.execute_cells_below()'))\n",
    "\n",
    "def clear_op(event):\n",
    "    clear_output(wait=True)\n",
    "    return\n",
    "\n",
    "button1 = widgets.Button(\n",
    "    description='Clear Output',\n",
    "    style= {'button_color':'lightgreen'},\n",
    "    #style= {'button_color':'lightgreen', 'description_width': 'initial'},\n",
    "    layout={'width': '300px'}\n",
    ")\n",
    "button2 = widgets.Button(\n",
    "    description='',\n",
    "    style= {'button_color':'white'},\n",
    "    #style= {'button_color':'lightgreen', 'description_width': 'initial'},\n",
    "    layout={'width': '83px'}\n",
    ")\n",
    "button1.on_click(run_all)\n",
    "button1.on_click(clear_op)"
   ]
  },
  {
   "cell_type": "code",
   "execution_count": 11,
   "metadata": {
    "scrolled": true
   },
   "outputs": [
    {
     "data": {
      "application/vnd.jupyter.widget-view+json": {
       "model_id": "ba5866c17a42459394192699403e01dd",
       "version_major": 2,
       "version_minor": 0
      },
      "text/plain": [
       "HBox(children=(Button(description='click to start camera-encode-streamout demo', layout=Layout(width='300px'),…"
      ]
     },
     "metadata": {},
     "output_type": "display_data"
    }
   ],
   "source": [
    "def start_demo(event):\n",
    "    #clear_output(wait=True)\n",
    "    arg = [];\n",
    "    arg = common_vcu_demo_camera_encode_streamout.cmd_line_args_generator(device_id.value, video_capture_device.value, video_size.value, codec_type.value, audio_codecW.value, frame_rate.value, output_path.value, no_of_frames.value, bit_rate.value, show_fps.value, audio_srcW.value, periodicity_idr.value, gop_length.value, compressed_mode.value, sink_name.value, address_path.value);\n",
    "    #!sh vcu-demo-camera-encode-decode-display.sh $arg > logs.txt 2>&1\n",
    "    !sh vcu-demo-camera-encode-streamout.sh $arg\n",
    "    return\n",
    "\n",
    "button = widgets.Button(\n",
    "    description='click to start camera-encode-streamout demo',\n",
    "    style= {'button_color':'lightgreen'},\n",
    "    #style= {'button_color':'lightgreen', 'description_width': 'initial'},\n",
    "    layout={'width': '300px'}\n",
    ")\n",
    "button.on_click(start_demo)\n",
    "HBox([button, button2, button1])"
   ]
  },
  {
   "cell_type": "markdown",
   "metadata": {},
   "source": [
    "# References\n",
    "[1] https://xilinx-wiki.atlassian.net/wiki/spaces/A/pages/18842546/Xilinx+Video+Codec+Unit\n",
    "\n",
    "[2] https://www.xilinx.com/support.html#documentation (Refer to PG252)"
   ]
  }
 ],
 "metadata": {
  "kernelspec": {
   "display_name": "Python 3",
   "language": "python",
   "name": "python3"
  },
  "language_info": {
   "codemirror_mode": {
    "name": "ipython",
    "version": 3
   },
   "file_extension": ".py",
   "mimetype": "text/x-python",
   "name": "python",
   "nbconvert_exporter": "python",
   "pygments_lexer": "ipython3",
   "version": "3.5.6"
  }
 },
 "nbformat": 4,
 "nbformat_minor": 2
}
