{
 "cells": [
  {
   "cell_type": "markdown",
   "metadata": {},
   "source": [
    "# Video Codec Unit (VCU) Demo Example: TPG->HDR ENCODE->FILE"
   ]
  },
  {
   "cell_type": "markdown",
   "metadata": {},
   "source": [
    "# Introduction\n",
    "\n",
    "Video Codec Unit (VCU) in ZynqMP SOC is capable of encoding and decoding AVC/HEVC compressed video streams in real time.\n",
    "\n",
    "This notebook example shows High Dynamic Range (HDR) video recording usecase – the process of capturing raw video from a software test pattern generator, encoding with HDR10 metadata using VCU and then storing its content in file. The file stored is a recorded compressed file. \n",
    "\n",
    "__Important Note:__\n",
    "As of VLC Vetinari (Version 3.0.11), there is no AVC HDR support in VLC. Thus, if you try to play/stream out an AVC HDR file to VLC, you will not see proper HDR metadata.\n"
   ]
  },
  {
   "cell_type": "markdown",
   "metadata": {},
   "source": [
    "# Implementation Details\n",
    "\n",
    "<img src=\"pictures/block-diagram-videotestsrc-hdr-to-file.png\" align=\"center\" alt=\"Drawing\" style=\"width: 400px; height: 200px\"/>\n",
    "\n",
    "### Board Setup \n",
    "1. Connect Ethernet cable.\n",
    "2. Connect serial cable to monitor logs on serial console.\n",
    "3. If Board is connected to private network, then export proxy settings in /home/root/.bashrc file as below,      \n",
    "    - create/open a bashrc file using \"vi ~/.bashrc\" \n",
    "        - Insert below line to bashrc file\n",
    "            - export http_proxy=\"< private network proxy address >\"\n",
    "            - export https_proxy=\"< private network proxy address >\"\n",
    "        - Save and close bashrc file."
   ]
  },
  {
   "cell_type": "code",
   "execution_count": 1,
   "metadata": {},
   "outputs": [
    {
     "data": {
      "text/html": [
       "<script>\n",
       "code_show=true; \n",
       "function code_toggle() {\n",
       " if (code_show){\n",
       " $('div.input').hide();\n",
       " } else {\n",
       " $('div.input').show();\n",
       " }\n",
       " code_show = !code_show\n",
       "} \n",
       "$( document ).ready(code_toggle);\n",
       "</script>\n",
       "<form action=\"javascript:code_toggle()\"><input type=\"submit\" value=\"Click here to toggle on/off the raw code.\"></form>"
      ],
      "text/plain": [
       "<IPython.core.display.HTML object>"
      ]
     },
     "execution_count": 1,
     "metadata": {},
     "output_type": "execute_result"
    }
   ],
   "source": [
    "from IPython.display import HTML\n",
    "\n",
    "HTML('''<script>\n",
    "code_show=true; \n",
    "function code_toggle() {\n",
    " if (code_show){\n",
    " $('div.input').hide();\n",
    " } else {\n",
    " $('div.input').show();\n",
    " }\n",
    " code_show = !code_show\n",
    "} \n",
    "$( document ).ready(code_toggle);\n",
    "</script>\n",
    "<form action=\"javascript:code_toggle()\"><input type=\"submit\" value=\"Click here to toggle on/off the raw code.\"></form>''')"
   ]
  },
  {
   "cell_type": "markdown",
   "metadata": {},
   "source": [
    "# Run the Demo"
   ]
  },
  {
   "cell_type": "code",
   "execution_count": 2,
   "metadata": {},
   "outputs": [],
   "source": [
    "from ipywidgets import interact\n",
    "import ipywidgets as widgets\n",
    "from common import common_vcu_demo_videotestsrc_hdr_to_file\n",
    "import os\n",
    "from ipywidgets import HBox, VBox, Text, Layout"
   ]
  },
  {
   "cell_type": "markdown",
   "metadata": {},
   "source": [
    "### Video"
   ]
  },
  {
   "cell_type": "code",
   "execution_count": 3,
   "metadata": {},
   "outputs": [
    {
     "data": {
      "application/vnd.jupyter.widget-view+json": {
       "model_id": "12b753f88f8e4cba8b7e822efe01e375",
       "version_major": 2,
       "version_minor": 0
      },
      "text/plain": [
       "HBox(children=(RadioButtons(description='Codec Type:', options=('avc', 'hevc'), value='avc'), RadioButtons(des…"
      ]
     },
     "metadata": {},
     "output_type": "display_data"
    }
   ],
   "source": [
    "codec_type=widgets.RadioButtons(\n",
    "    options=['avc', 'hevc'],\n",
    "    description='Codec Type:',\n",
    "    disabled=False)\n",
    "video_size=widgets.RadioButtons(\n",
    "    options=['640x480', '1280x720', '1920x1080', '3840x2160'],\n",
    "    description='Resolution:',\n",
    "    disabled=False)\n",
    "color_format=widgets.RadioButtons(\n",
    "    options=['NV12_10LE32', 'NV16_10LE32'],\n",
    "    description='Color Format:',\n",
    "    disabled=False)\n",
    "HBox([codec_type, video_size, color_format])"
   ]
  },
  {
   "cell_type": "markdown",
   "metadata": {},
   "source": [
    "### HDR Metadata:"
   ]
  },
  {
   "cell_type": "markdown",
   "metadata": {},
   "source": [
    "##### Display Primaries:"
   ]
  },
  {
   "cell_type": "code",
   "execution_count": 4,
   "metadata": {
    "scrolled": true
   },
   "outputs": [
    {
     "data": {
      "application/vnd.jupyter.widget-view+json": {
       "model_id": "9e6c1cce9ff84923ba40557218ac4bc2",
       "version_major": 2,
       "version_minor": 0
      },
      "text/plain": [
       "HBox(children=(Text(value='0', description='Red X:', placeholder='(optional) 5, 37000'), Text(value='0', descr…"
      ]
     },
     "metadata": {},
     "output_type": "display_data"
    }
   ],
   "source": [
    "red_x=widgets.Text(value='0',\n",
    "    placeholder='(optional) 5, 37000',\n",
    "    description='Red X:',\n",
    "    disabled=False)\n",
    "red_y=widgets.Text(value='0',\n",
    "    placeholder='(optional) 5, 42000',\n",
    "    description='Red Y:',\n",
    "    disabled=False)\n",
    "green_x=widgets.Text(value='0',\n",
    "    placeholder='(optional) 5, 37000',\n",
    "    description='Green X:',\n",
    "    disabled=False)\n",
    "\n",
    "display(HBox([red_x, red_y, green_x]))"
   ]
  },
  {
   "cell_type": "code",
   "execution_count": 5,
   "metadata": {
    "scrolled": false
   },
   "outputs": [
    {
     "data": {
      "application/vnd.jupyter.widget-view+json": {
       "model_id": "898531f6f445416aaff9edcab02aad43",
       "version_major": 2,
       "version_minor": 0
      },
      "text/plain": [
       "HBox(children=(Text(value='0', description='Green Y:', placeholder='(optional) 5, 42000'), Text(value='0', des…"
      ]
     },
     "metadata": {},
     "output_type": "display_data"
    }
   ],
   "source": [
    "green_y=widgets.Text(value='0',\n",
    "    placeholder='(optional) 5, 42000',\n",
    "    description='Green Y:',\n",
    "    disabled=False)\n",
    "blue_x=widgets.Text(value='0',\n",
    "    placeholder='(optional) 5, 37000',\n",
    "    description='Blue X:',\n",
    "    disabled=False)\n",
    "blue_y=widgets.Text(value='0',\n",
    "    placeholder='(optional) 5, 42000',\n",
    "    description='Blue Y:',\n",
    "    disabled=False)\n",
    "\n",
    "display(HBox([green_y, blue_x, blue_y]))"
   ]
  },
  {
   "cell_type": "markdown",
   "metadata": {},
   "source": [
    "##### White Point:"
   ]
  },
  {
   "cell_type": "code",
   "execution_count": 6,
   "metadata": {
    "scrolled": true
   },
   "outputs": [
    {
     "data": {
      "application/vnd.jupyter.widget-view+json": {
       "model_id": "b5eb1a5eb4a14e5cb2f97c2f4caa282e",
       "version_major": 2,
       "version_minor": 0
      },
      "text/plain": [
       "HBox(children=(Text(value='0', description='White X:', placeholder='(optional) 5, 37000'), Text(value='0', des…"
      ]
     },
     "metadata": {},
     "output_type": "display_data"
    }
   ],
   "source": [
    "white_x=widgets.Text(value='0',\n",
    "    placeholder='(optional) 5, 37000',\n",
    "    description='White X:',\n",
    "    disabled=False)\n",
    "white_y=widgets.Text(value='0',\n",
    "    placeholder='(optional) 5, 42000',\n",
    "    description='White Y:',\n",
    "    disabled=False)\n",
    "\n",
    "display(HBox([white_x, white_y]))"
   ]
  },
  {
   "cell_type": "markdown",
   "metadata": {},
   "source": [
    "##### Display Luminance:"
   ]
  },
  {
   "cell_type": "code",
   "execution_count": 7,
   "metadata": {
    "scrolled": true
   },
   "outputs": [
    {
     "data": {
      "application/vnd.jupyter.widget-view+json": {
       "model_id": "b89c230b453c4383a0eae02ca5e01ef5",
       "version_major": 2,
       "version_minor": 0
      },
      "text/plain": [
       "HBox(children=(Text(value='0', description='Max:', placeholder='(optional) 50000, 10000000'), Text(value='0', …"
      ]
     },
     "metadata": {},
     "output_type": "display_data"
    }
   ],
   "source": [
    "max_display_luminance=widgets.Text(value='0',\n",
    "    placeholder='(optional) 50000, 10000000',\n",
    "    description='Max:',\n",
    "    disabled=False)\n",
    "min_display_luminance=widgets.Text(value='0',\n",
    "    placeholder='(optional) 1, 50000',\n",
    "    description='Min:',\n",
    "    disabled=False)\n",
    "\n",
    "display(HBox([max_display_luminance, min_display_luminance]))"
   ]
  },
  {
   "cell_type": "markdown",
   "metadata": {},
   "source": [
    "##### Content Light Level:"
   ]
  },
  {
   "cell_type": "code",
   "execution_count": 8,
   "metadata": {
    "scrolled": true
   },
   "outputs": [
    {
     "data": {
      "application/vnd.jupyter.widget-view+json": {
       "model_id": "61cd141785d54970b64a23860e3f438c",
       "version_major": 2,
       "version_minor": 0
      },
      "text/plain": [
       "HBox(children=(Text(value='0', description='Max CLL:', placeholder='(optional) 0, 65535'), Text(value='0', des…"
      ]
     },
     "metadata": {},
     "output_type": "display_data"
    }
   ],
   "source": [
    "max_cll=widgets.Text(value='0',\n",
    "    placeholder='(optional) 0, 65535',\n",
    "    description='Max CLL:',\n",
    "    disabled=False)\n",
    "max_fall=widgets.Text(value='0',\n",
    "    placeholder='(optional) 0, 65535',\n",
    "    description='Max FALL:',\n",
    "    disabled=False)\n",
    "\n",
    "display(HBox([max_cll, max_fall]))"
   ]
  },
  {
   "cell_type": "markdown",
   "metadata": {},
   "source": [
    "### Advanced Encoder Options:"
   ]
  },
  {
   "cell_type": "code",
   "execution_count": 9,
   "metadata": {
    "scrolled": true
   },
   "outputs": [
    {
     "data": {
      "application/vnd.jupyter.widget-view+json": {
       "model_id": "2b913cf07ca04fc1b2006caa3b73d2a3",
       "version_major": 2,
       "version_minor": 0
      },
      "text/plain": [
       "HBox(children=(Text(value='', description='Bit Rate(Kbps):', placeholder='(optional) 1000, 20000', style=Descr…"
      ]
     },
     "metadata": {},
     "output_type": "display_data"
    }
   ],
   "source": [
    "frame_rate=widgets.Text(value='',\n",
    "    placeholder='(optional) 15, 30, 60',\n",
    "    description='Frame Rate:',\n",
    "    disabled=False)\n",
    "bit_rate=widgets.Text(value='',\n",
    "    placeholder='(optional) 1000, 20000',\n",
    "    description='Bit Rate(Kbps):',\n",
    "    style={'description_width': 'initial'},\n",
    "    disabled=False)\n",
    "gop_length=widgets.Text(value='',\n",
    "    placeholder='(optional) 30, 60',\n",
    "    description='Gop Length',\n",
    "    disabled=False)\n",
    "\n",
    "display(HBox([bit_rate, frame_rate, gop_length]))"
   ]
  },
  {
   "cell_type": "code",
   "execution_count": 10,
   "metadata": {},
   "outputs": [
    {
     "data": {
      "application/vnd.jupyter.widget-view+json": {
       "model_id": "055d86a9b0c3427c81a88ee0c6f3f9c4",
       "version_major": 2,
       "version_minor": 0
      },
      "text/plain": [
       "HBox(children=(Text(value='', description='<p>IDR Period:</p>', placeholder='(optional) 30, 60'), Text(value='…"
      ]
     },
     "metadata": {},
     "output_type": "display_data"
    }
   ],
   "source": [
    "periodicity_idr=widgets.Text(value='',\n",
    "    placeholder='(optional) 30, 60',\n",
    "    description=r'<p>IDR Period:</p>',\n",
    "    disabled=False)\n",
    "no_of_frames=widgets.Text(value='',\n",
    "    placeholder='(optional) 1000, 2000',\n",
    "    description=r'<p>Frame Nos:</p>',\n",
    "    disabled=False)\n",
    "output_path=widgets.Text(value='',\n",
    "    placeholder='(optional) output.avc',\n",
    "    description='Output Path:',\n",
    "    disabled=False)\n",
    "HBox([periodicity_idr, no_of_frames, output_path])"
   ]
  },
  {
   "cell_type": "code",
   "execution_count": 11,
   "metadata": {},
   "outputs": [
    {
     "data": {
      "application/vnd.jupyter.widget-view+json": {
       "model_id": "8cbc22be89874b4183384d026a7dc616",
       "version_major": 2,
       "version_minor": 0
      },
      "text/plain": [
       "HBox(children=(Checkbox(value=False, description='show-fps'),))"
      ]
     },
     "metadata": {},
     "output_type": "display_data"
    }
   ],
   "source": [
    "show_fps=widgets.Checkbox(\n",
    "    value=False,\n",
    "    description='show-fps',\n",
    "    disabled=False)\n",
    "HBox([show_fps])"
   ]
  },
  {
   "cell_type": "code",
   "execution_count": 12,
   "metadata": {},
   "outputs": [],
   "source": [
    "from IPython.display import clear_output\n",
    "from IPython.display import Javascript\n",
    "\n",
    "def run_all(ev):\n",
    "    display(Javascript('IPython.notebook.execute_cells_below()'))\n",
    "\n",
    "def clear_op(event):\n",
    "    clear_output(wait=True)\n",
    "    return\n",
    "\n",
    "button1 = widgets.Button(\n",
    "    description='Clear Output',\n",
    "    style= {'button_color':'lightgreen'},\n",
    "    layout={'width': '300px'}\n",
    ")\n",
    "button2 = widgets.Button(\n",
    "    description='',\n",
    "    style= {'button_color':'white'},\n",
    "    layout={'width': '83px'}\n",
    ")\n",
    "button1.on_click(run_all)\n",
    "button1.on_click(clear_op)"
   ]
  },
  {
   "cell_type": "code",
   "execution_count": 13,
   "metadata": {},
   "outputs": [
    {
     "data": {
      "application/vnd.jupyter.widget-view+json": {
       "model_id": "d220ae00aa704a3dbfc9ff6163a30390",
       "version_major": 2,
       "version_minor": 0
      },
      "text/plain": [
       "HBox(children=(Button(description='click to start videotestsrc-hdr-to-file demo', layout=Layout(width='300px')…"
      ]
     },
     "metadata": {},
     "output_type": "display_data"
    }
   ],
   "source": [
    "def start_demo(event):\n",
    "    #clear_output(wait=True)\n",
    "    arg = [];\n",
    "    arg = common_vcu_demo_videotestsrc_hdr_to_file.cmd_line_args_generator(video_size.value, codec_type.value, output_path.value, no_of_frames.value, bit_rate.value, frame_rate.value, gop_length.value, periodicity_idr.value, color_format.value, red_x.value, red_y.value, green_x.value, green_y.value, blue_x.value, blue_y.value, white_x.value, white_y.value, max_display_luminance.value, min_display_luminance.value, max_cll.value, max_fall.value, show_fps.value);\n",
    "    !sh vcu-demo-videotestsrc-hdr-to-file.sh $arg\n",
    "    return\n",
    "\n",
    "button = widgets.Button(\n",
    "    description='click to start videotestsrc-hdr-to-file demo',\n",
    "    style= {'button_color':'lightgreen'},\n",
    "    layout={'width': '300px'}\n",
    ")\n",
    "button.on_click(start_demo)\n",
    "HBox([button, button2, button1])"
   ]
  },
  {
   "cell_type": "markdown",
   "metadata": {},
   "source": [
    "# References\n",
    "[1] https://xilinx-wiki.atlassian.net/wiki/spaces/A/pages/18842546/Xilinx+Video+Codec+Unit\n",
    "\n",
    "[2] https://www.xilinx.com/support.html#documentation (Refer to PG252)"
   ]
  }
 ],
 "metadata": {
  "kernelspec": {
   "display_name": "Python 3",
   "language": "python",
   "name": "python3"
  },
  "language_info": {
   "codemirror_mode": {
    "name": "ipython",
    "version": 3
   },
   "file_extension": ".py",
   "mimetype": "text/x-python",
   "name": "python",
   "nbconvert_exporter": "python",
   "pygments_lexer": "ipython3",
   "version": "3.7.6"
  }
 },
 "nbformat": 4,
 "nbformat_minor": 2
}
