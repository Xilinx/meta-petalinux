{
 "cells": [
  {
   "cell_type": "markdown",
   "metadata": {},
   "source": [
    "# Video Codec Unit (VCU) Demo Example: DECODE -> DISPLAY "
   ]
  },
  {
   "cell_type": "markdown",
   "metadata": {},
   "source": [
    "# Introduction\n",
    "\n",
    "Video Codec Unit (VCU) in ZynqMP SOC is capable of decoding AVC/HEVC compressed video streams.\n",
    "\n",
    "This notebook example shows File playback usecase - where it reads compressed video and audio(optional) data from file or HTTP URL (e.g. youtube video), does decoding of video content using VCU, decoding of audio using software Gstreamer element and renders output on DP/HDMI display. \n"
   ]
  },
  {
   "cell_type": "markdown",
   "metadata": {},
   "source": [
    "# Implementation Details\n",
    "\n",
    "<img src=\"pictures/block-diagram-decode-display.png\" align=\"center\" alt=\"Drawing\" style=\"width: 600px; height: 200px\"/>\n",
    "\n",
    "### Board Setup \n",
    "1. Connect 4k DP/HDMI display to board.\n",
    "2. Connect Ethernet cable. Check Internet connectivity. It is required for downloading compressed file from web-server.\n",
    "3. Connect serial cable to monitor logs on serial console.\n",
    "4. If Board is connected to private network, then export proxy settings in /home/root/.bashrc file as below,      \n",
    "    - create/open a bashrc file using \"vi ~/.bashrc\" \n",
    "        - Insert below line to bashrc file\n",
    "            - export http_proxy=\"< private network proxy address >\"\n",
    "            - export https_proxy=\"< private network proxy address >\"\n",
    "        - Save and close bashrc file.\n",
    "5. Determine Audio output device names based on requirements. Please refer Determine AUDIO Device Names section.\n",
    "\n",
    "\n",
    "\n",
    "### Determine Audio Device Names\n",
    "The audio device name of audio source(Input device) and playback device(output device) need to be determined using arecord and aplay utilities installed on platform.\n",
    "\n",
    "***Audio Output***\n",
    "\n",
    "**ALSA sound device names for playback devices:**\n",
    "-  Run below command to get ALSA playback device names for output devices\n",
    "   \n",
    "   root@zcu106-zynqmp:~#aplay -l\n",
    "   \n",
    "   It shows list of Playback Hardware Devices. For e.g\n",
    "        - card 0: monitor [DisplayPort monitor], device 0: (null) xilinx-dp-snd-codec-dai-0 []\n",
    "            - Subdevices: 1/1\n",
    "            - Subdevice #0: subdevice #0\n",
    "        - card 0: monitor [DisplayPort monitor], device 1: (null) xilinx-dp-snd-codec-dai-1 []\n",
    "            - Subdevices: 1/1\n",
    "            - Subdevice #0: subdevice #0\n",
    "\n",
    "Here card number \"0\" is being used for playback device for display port channel 0 and device id is 0, so \"**hw:0,0**\" Hence it can be passed as auido output device.\n",
    "\n",
    "**PulseAudio sound device names playback devices**\n",
    "-  Run below command to get PULSE playback device names for output devices\n",
    "\n",
    "   root@zcu106-zynqmp:~#pactl list short sinks\n",
    "   \n",
    "   It shows list of Playback Hardware Devices. For e.g\n",
    "       - 0       alsa_output.platform-fd4a0000.zynqmp-display:zynqmp_dp_snd_card.analog-stereo ...\n",
    "       \n",
    "Here \"**alsa_output.platform-fd4a0000.zynqmp-display:zynqmp_dp_snd_card.analog-stereo**\" is the name of audio playback device. Hence it can be passed as auido output device."
   ]
  },
  {
   "cell_type": "code",
   "execution_count": 1,
   "metadata": {},
   "outputs": [
    {
     "data": {
      "text/html": [
       "<script>\n",
       "code_show=true; \n",
       "function code_toggle() {\n",
       " if (code_show){\n",
       " $('div.input').hide();\n",
       " } else {\n",
       " $('div.input').show();\n",
       " }\n",
       " code_show = !code_show\n",
       "} \n",
       "$( document ).ready(code_toggle);\n",
       "</script>\n",
       "<form action=\"javascript:code_toggle()\"><input type=\"submit\" value=\"Click here to toggle on/off the raw code.\"></form>"
      ],
      "text/plain": [
       "<IPython.core.display.HTML object>"
      ]
     },
     "execution_count": 1,
     "metadata": {},
     "output_type": "execute_result"
    }
   ],
   "source": [
    "from IPython.display import HTML\n",
    "\n",
    "HTML('''<script>\n",
    "code_show=true; \n",
    "function code_toggle() {\n",
    " if (code_show){\n",
    " $('div.input').hide();\n",
    " } else {\n",
    " $('div.input').show();\n",
    " }\n",
    " code_show = !code_show\n",
    "} \n",
    "$( document ).ready(code_toggle);\n",
    "</script>\n",
    "<form action=\"javascript:code_toggle()\"><input type=\"submit\" value=\"Click here to toggle on/off the raw code.\"></form>''')"
   ]
  },
  {
   "cell_type": "markdown",
   "metadata": {},
   "source": [
    "# Run the Demo "
   ]
  },
  {
   "cell_type": "code",
   "execution_count": 2,
   "metadata": {},
   "outputs": [],
   "source": [
    "from ipywidgets import interact\n",
    "import ipywidgets as widgets\n",
    "from common import common_vcu_demo_decode_display\n",
    "import os\n",
    "from ipywidgets import HBox, VBox, Text, Layout, HTML"
   ]
  },
  {
   "cell_type": "markdown",
   "metadata": {},
   "source": [
    "### Insert Input file path Or Youtube URL"
   ]
  },
  {
   "cell_type": "code",
   "execution_count": 3,
   "metadata": {},
   "outputs": [
    {
     "data": {
      "application/vnd.jupyter.widget-view+json": {
       "model_id": "82fff394dc10449b8384029e9f73648b",
       "version_major": 2,
       "version_minor": 0
      },
      "text/plain": [
       "HBox(children=(Text(value='', description='Input File:', placeholder='Insert file path'), Text(value='', descr…"
      ]
     },
     "metadata": {},
     "output_type": "display_data"
    }
   ],
   "source": [
    "input_path=widgets.Text(value='',\n",
    "    placeholder='Insert file path',\n",
    "    description=r'Input File:',\n",
    "    #style={'description_width': 'initial'},\n",
    "    disabled=False)\n",
    "input_url=widgets.Text(value='',\n",
    "    placeholder='\"Insert Youtube URL\"',\n",
    "    description=r'<b>OR</b> Youtube URL (in quotes):',\n",
    "    style={'description_width': 'initial'},\n",
    "    layout=Layout(width='50%', height='30px'),\n",
    "    #style={'flex container': 'cross-end'},\n",
    "    disabled=False)\n",
    "display(HBox([input_path, input_url]))\n",
    "#display(HBox([input_url, input_path]))"
   ]
  },
  {
   "cell_type": "code",
   "execution_count": 4,
   "metadata": {},
   "outputs": [
    {
     "data": {
      "application/vnd.jupyter.widget-view+json": {
       "model_id": "9312461b05cc4ea98a9ae7c07c2177ce",
       "version_major": 2,
       "version_minor": 0
      },
      "text/plain": [
       "Text(value='', description='Proxy URL:', placeholder='(optional)')"
      ]
     },
     "metadata": {},
     "output_type": "display_data"
    }
   ],
   "source": [
    "proxy_url=widgets.Text(value='',\n",
    "    placeholder='(optional)',\n",
    "    description='Proxy URL:',\n",
    "    #style={'description_width': 'initial'},\n",
    "    disabled=False)\n",
    "proxy_url\n",
    "#HBox([proxy_url, optional])"
   ]
  },
  {
   "cell_type": "markdown",
   "metadata": {},
   "source": [
    "### Video"
   ]
  },
  {
   "cell_type": "code",
   "execution_count": 5,
   "metadata": {},
   "outputs": [
    {
     "data": {
      "application/vnd.jupyter.widget-view+json": {
       "model_id": "f5a4d66b19c0457590772125edede55b",
       "version_major": 2,
       "version_minor": 0
      },
      "text/plain": [
       "HBox(children=(RadioButtons(description='Video Codec:', options=('avc', 'hevc'), value='avc'), interactive(chi…"
      ]
     },
     "metadata": {},
     "output_type": "display_data"
    }
   ],
   "source": [
    "codec_type=widgets.RadioButtons(\n",
    "    options=['avc', 'hevc'],\n",
    "    description='Video Codec:',\n",
    "    #style={'description_width': 'initial'},\n",
    "    disabled=False)\n",
    "\n",
    "video_sink={'kmssink':['DP', 'HDMI'], 'fakevideosink':['none']}\n",
    "\n",
    "def print_video_sink(VideoSink):\n",
    "    pass\n",
    "\n",
    "def select_video_sink(VideoCodec):\n",
    "    display_type.options = video_sink[VideoCodec]\n",
    "\n",
    "sink_name = widgets.RadioButtons(options=sorted(video_sink.keys(), key=lambda k: len(video_sink[k]), reverse=True), description='Video Sink:')\n",
    "\n",
    "init = sink_name.value\n",
    "\n",
    "display_type = widgets.RadioButtons(options=video_sink[init], description='Display:')\n",
    "j = widgets.interactive(print_video_sink, VideoSink=display_type)\n",
    "i = widgets.interactive(select_video_sink, VideoCodec=sink_name)\n",
    "\n",
    "HBox([codec_type, i, j])"
   ]
  },
  {
   "cell_type": "markdown",
   "metadata": {},
   "source": [
    "### Audio"
   ]
  },
  {
   "cell_type": "code",
   "execution_count": 6,
   "metadata": {},
   "outputs": [
    {
     "data": {
      "application/vnd.jupyter.widget-view+json": {
       "model_id": "1aeca908e4384e0d8efdb869c2809bde",
       "version_major": 2,
       "version_minor": 0
      },
      "text/plain": [
       "Text(value='', description='Output Dev:', description_tooltip='To select the values of this argument, please r…"
      ]
     },
     "metadata": {},
     "output_type": "display_data"
    }
   ],
   "source": [
    "audio_output=Text(value='',\n",
    "    placeholder='(optional) \"hw:0\"',\n",
    "    description='Output Dev:',\n",
    "    style={'flex container': 'cross-end'},\n",
    "    description_tooltip='To select the values of this argument, please refer Determine Audio Device Names section',\n",
    "    disabled=False)\n",
    "audio_output\n",
    "#HBox([audio_output, optional])"
   ]
  },
  {
   "cell_type": "code",
   "execution_count": 7,
   "metadata": {
    "scrolled": true
   },
   "outputs": [
    {
     "data": {
      "application/vnd.jupyter.widget-view+json": {
       "model_id": "17e26eb2257e4105befab02ccac5f531",
       "version_major": 2,
       "version_minor": 0
      },
      "text/plain": [
       "HBox(children=(interactive(children=(RadioButtons(description='Audio Codec:', options=('none', 'aac', 'vorbis'…"
      ]
     },
     "metadata": {},
     "output_type": "display_data"
    }
   ],
   "source": [
    "audio_sink={'none':['none'], 'aac':['auto','alsasink','pulsesink'],'vorbis':['auto','alsasink','pulsesink']}\n",
    "audio_src={'none':['none'], 'aac':['auto','alsasrc','pulsesrc'],'vorbis':['auto','alsasrc','pulsesrc']}\n",
    "\n",
    "#val=sorted(audio_sink, key = lambda k: (-len(audio_sink[k]), k))\n",
    "def print_audio_sink(AudioSink):\n",
    "    pass\n",
    "    \n",
    "def print_audio_src(AudioSrc):\n",
    "    pass\n",
    "\n",
    "def select_audio_sink(AudioCodec):\n",
    "    audio_sinkW.options = audio_sink[AudioCodec]\n",
    "    audio_srcW.options = audio_src[AudioCodec]\n",
    "\n",
    "audio_codecW = widgets.RadioButtons(options=sorted(audio_sink.keys(), key=lambda k: len(audio_sink[k])), description='Audio Codec:')\n",
    "\n",
    "init = audio_codecW.value\n",
    "\n",
    "audio_sinkW = widgets.RadioButtons(options=audio_sink[init], description='Audio Sink:')\n",
    "audio_srcW = widgets.RadioButtons(options=audio_src[init], description='Audio Src:')\n",
    "j = widgets.interactive(print_audio_sink, AudioSink=audio_sinkW)\n",
    "i = widgets.interactive(select_audio_sink, AudioCodec=audio_codecW)\n",
    "\n",
    "HBox([i, j])"
   ]
  },
  {
   "cell_type": "markdown",
   "metadata": {},
   "source": [
    "### Advanced options:"
   ]
  },
  {
   "cell_type": "code",
   "execution_count": 8,
   "metadata": {},
   "outputs": [
    {
     "data": {
      "application/vnd.jupyter.widget-view+json": {
       "model_id": "544f35ebc5f64484a05d1749f9d2fab7",
       "version_major": 2,
       "version_minor": 0
      },
      "text/plain": [
       "HBox(children=(Dropdown(description='Entropy Buffers Nos:', index=3, options=('2', '3', '4', '5', '6', '7', '8…"
      ]
     },
     "metadata": {},
     "output_type": "display_data"
    }
   ],
   "source": [
    "entropy_buffers=widgets.Dropdown(\n",
    "    options=['2', '3', '4', '5', '6', '7', '8', '9', '10', '11', '12', '13', '14', '15'],\n",
    "    value='5',\n",
    "    description='Entropy Buffers Nos:',\n",
    "    style={'description_width': 'initial'},\n",
    "    disabled=False,)\n",
    "show_fps=widgets.Checkbox(\n",
    "    value=False,\n",
    "    description='show-fps',\n",
    "    #style={'description_width': 'initial'},\n",
    "    disabled=False)\n",
    "loop=widgets.Checkbox(\n",
    "    value=False,\n",
    "    description='Repeat Play',\n",
    "    #style={'description_width': 'initial'},\n",
    "    disabled=False)\n",
    "HBox([entropy_buffers, show_fps, loop])"
   ]
  },
  {
   "cell_type": "code",
   "execution_count": 9,
   "metadata": {},
   "outputs": [],
   "source": [
    "from IPython.display import clear_output\n",
    "from IPython.display import Javascript\n",
    "\n",
    "def run_all(ev):\n",
    "    display(Javascript('IPython.notebook.execute_cells_below()'))\n",
    "\n",
    "def clear_op(event):\n",
    "    clear_output(wait=True)\n",
    "    return\n",
    "\n",
    "button1 = widgets.Button(\n",
    "    description='Clear Output',\n",
    "    style= {'button_color':'lightgreen'},\n",
    "    #style= {'button_color':'lightgreen', 'description_width': 'initial'},\n",
    "    layout={'width': '300px'}\n",
    ")\n",
    "button2 = widgets.Button(\n",
    "    description='',\n",
    "    style= {'button_color':'white'},\n",
    "    #style= {'button_color':'lightgreen', 'description_width': 'initial'},\n",
    "    layout={'width': '83px'},\n",
    "    disabled=True\n",
    ")\n",
    "button1.on_click(run_all)\n",
    "button1.on_click(clear_op)"
   ]
  },
  {
   "cell_type": "code",
   "execution_count": 10,
   "metadata": {},
   "outputs": [
    {
     "data": {
      "application/vnd.jupyter.widget-view+json": {
       "model_id": "0065ccf3c44f42c58d01c077fcb09d51",
       "version_major": 2,
       "version_minor": 0
      },
      "text/plain": [
       "HBox(children=(Button(description='click to start vcu-decode-display demo', layout=Layout(width='300px'), styl…"
      ]
     },
     "metadata": {},
     "output_type": "display_data"
    }
   ],
   "source": [
    "def start_demo(event):\n",
    "    #clear_output(wait=True)\n",
    "    arg = [];\n",
    "    arg = common_vcu_demo_decode_display.cmd_line_args_generator(input_path.value, input_url.value, codec_type.value, audio_codecW.value, display_type.value, show_fps.value, loop.value, entropy_buffers.value, proxy_url.value, audio_sinkW.value, audio_output.value, sink_name.value);\n",
    "    #!sh vcu-demo-decode-display.sh $arg > logs.txt 2>&1\n",
    "    !sh vcu-demo-decode-display.sh $arg\n",
    "    return\n",
    "\n",
    "button = widgets.Button(\n",
    "    description='click to start vcu-decode-display demo',\n",
    "    style= {'button_color':'lightgreen'},\n",
    "    #style= {'button_color':'lightgreen', 'description_width': 'initial'},\n",
    "    layout={'width': '300px'}\n",
    ")\n",
    "\n",
    "button.on_click(start_demo)\n",
    "HBox([button, button2, button1])"
   ]
  },
  {
   "cell_type": "markdown",
   "metadata": {},
   "source": [
    "# References\n",
    "[1] https://xilinx-wiki.atlassian.net/wiki/spaces/A/pages/18842546/Xilinx+Video+Codec+Unit\n",
    "\n",
    "[2] https://www.xilinx.com/support.html#documentation (Refer to PG252)"
   ]
  }
 ],
 "metadata": {
  "kernelspec": {
   "display_name": "Python 3",
   "language": "python",
   "name": "python3"
  },
  "language_info": {
   "codemirror_mode": {
    "name": "ipython",
    "version": 3
   },
   "file_extension": ".py",
   "mimetype": "text/x-python",
   "name": "python",
   "nbconvert_exporter": "python",
   "pygments_lexer": "ipython3",
   "version": "3.5.6"
  }
 },
 "nbformat": 4,
 "nbformat_minor": 2
}
